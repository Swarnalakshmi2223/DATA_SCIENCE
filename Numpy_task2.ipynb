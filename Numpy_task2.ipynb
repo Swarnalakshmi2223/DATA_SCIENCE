{
  "nbformat": 4,
  "nbformat_minor": 0,
  "metadata": {
    "colab": {
      "provenance": [],
      "authorship_tag": "ABX9TyMdc1llKUoWlVnGQz/OZynh",
      "include_colab_link": true
    },
    "kernelspec": {
      "name": "python3",
      "display_name": "Python 3"
    },
    "language_info": {
      "name": "python"
    }
  },
  "cells": [
    {
      "cell_type": "markdown",
      "metadata": {
        "id": "view-in-github",
        "colab_type": "text"
      },
      "source": [
        "<a href=\"https://colab.research.google.com/github/Swarnalakshmi2223/DATA_SCIENCE/blob/main/Numpy_task2.ipynb\" target=\"_parent\"><img src=\"https://colab.research.google.com/assets/colab-badge.svg\" alt=\"Open In Colab\"/></a>"
      ]
    },
    {
      "cell_type": "markdown",
      "source": [
        "BASIC NUMPY ARRAYS"
      ],
      "metadata": {
        "id": "oa9E2k2hiIay"
      }
    },
    {
      "cell_type": "markdown",
      "source": [
        "IMPORT NUMPY"
      ],
      "metadata": {
        "id": "JyIexlK6jWul"
      }
    },
    {
      "cell_type": "code",
      "source": [
        "import numpy as np"
      ],
      "metadata": {
        "id": "s8jroLDVW8Bg"
      },
      "execution_count": null,
      "outputs": []
    },
    {
      "cell_type": "code",
      "source": [
        "\n",
        "a=np.array([1,2,3,4])\n",
        "print(a)\n",
        "print(type(a))"
      ],
      "metadata": {
        "colab": {
          "base_uri": "https://localhost:8080/"
        },
        "id": "IhnN55IvWWv8",
        "outputId": "abbe6ebd-2d8a-4169-9c74-f8b48329f430"
      },
      "execution_count": null,
      "outputs": [
        {
          "output_type": "stream",
          "name": "stdout",
          "text": [
            "[1 2 3 4]\n",
            "<class 'numpy.ndarray'>\n"
          ]
        }
      ]
    },
    {
      "cell_type": "code",
      "source": [
        "\n",
        "arr=np.array(42)\n",
        "b=np.array([1,2,3])\n",
        "c=np.array([[[1,2,3],[4,5,6]],[[3,2,1],[4,5,7]]])\n",
        "print(c.ndim)"
      ],
      "metadata": {
        "colab": {
          "base_uri": "https://localhost:8080/"
        },
        "id": "nk8qwv4RW0DA",
        "outputId": "b3f00caa-9758-440b-df80-ac2a69349d28"
      },
      "execution_count": null,
      "outputs": [
        {
          "output_type": "stream",
          "name": "stdout",
          "text": [
            "3\n"
          ]
        }
      ]
    },
    {
      "cell_type": "code",
      "source": [
        "\n",
        "c=np.array([[[1,2,3],[4,5,6]],[[3,2,1],[4,5,7]]])\n",
        "print(c[1,1])\n",
        "a=np.array([[1,2,3],[4,5,6],[3,2,1],[4,5,7]])\n",
        "print(a[1,1])"
      ],
      "metadata": {
        "colab": {
          "base_uri": "https://localhost:8080/"
        },
        "id": "VWkqBCRHXZVy",
        "outputId": "6b5a4c27-d404-401d-ecc8-16c0865b1939"
      },
      "execution_count": null,
      "outputs": [
        {
          "output_type": "stream",
          "name": "stdout",
          "text": [
            "[4 5 7]\n",
            "5\n"
          ]
        }
      ]
    },
    {
      "cell_type": "code",
      "source": [
        "\n",
        "a=np.array([1,2,3])\n",
        "print(a[2])"
      ],
      "metadata": {
        "colab": {
          "base_uri": "https://localhost:8080/"
        },
        "id": "ZepKxSEsXtc5",
        "outputId": "0c8a6c03-8bbc-42f0-ce22-8a23c6786efc"
      },
      "execution_count": null,
      "outputs": [
        {
          "output_type": "stream",
          "name": "stdout",
          "text": [
            "3\n"
          ]
        }
      ]
    },
    {
      "cell_type": "code",
      "source": [
        "\n",
        "b=np.array([1,2,3,4,5,6])\n",
        "print(b[1:5])"
      ],
      "metadata": {
        "colab": {
          "base_uri": "https://localhost:8080/"
        },
        "id": "f3ey6EwlX6J5",
        "outputId": "b0650334-cc7e-493a-d2fa-e2dad22b7a3d"
      },
      "execution_count": null,
      "outputs": [
        {
          "output_type": "stream",
          "name": "stdout",
          "text": [
            "[2 3 4 5]\n"
          ]
        }
      ]
    },
    {
      "cell_type": "code",
      "source": [
        "# Initial Array\n",
        "arr = np.array([[-1, 2, 0, 4],\n",
        "                [4, -0.5, 6, 0],\n",
        "                [2.6, 0, 7, 8],\n",
        "                [3, -7, 4, 2.0]])\n",
        "print(\"Initial Array: \")\n",
        "print(arr)\n",
        "\n",
        "# Printing a range of Array\n",
        "# with the use of slicing method\n",
        "sliced_arr = arr[:2, ::2]\n",
        "print (\"Array with first 2 rows and\"\n",
        "    \" alternate columns(0 and 2):\\n\", sliced_arr)\n",
        "\n",
        "# Printing elements at\n",
        "# specific Indices\n",
        "Index_arr = arr[[1, 1, 0, 3],\n",
        "                [3, 2, 1, 0]]\n",
        "print (\"\\nElements at indices (1, 3), \"\n",
        "    \"(1, 2), (0, 1), (3, 0):\\n\", Index_arr)"
      ],
      "metadata": {
        "colab": {
          "base_uri": "https://localhost:8080/"
        },
        "id": "ya3lsSdCYCQD",
        "outputId": "ab10ee26-2496-4892-8b1b-97eeb72f9539"
      },
      "execution_count": null,
      "outputs": [
        {
          "output_type": "stream",
          "name": "stdout",
          "text": [
            "Initial Array: \n",
            "[[-1.   2.   0.   4. ]\n",
            " [ 4.  -0.5  6.   0. ]\n",
            " [ 2.6  0.   7.   8. ]\n",
            " [ 3.  -7.   4.   2. ]]\n",
            "Array with first 2 rows and alternate columns(0 and 2):\n",
            " [[-1.  0.]\n",
            " [ 4.  6.]]\n",
            "\n",
            "Elements at indices (1, 3), (1, 2), (0, 1), (3, 0):\n",
            " [0. 6. 2. 3.]\n"
          ]
        }
      ]
    },
    {
      "cell_type": "code",
      "source": [
        "\n",
        "a = np.array([[1, 2],\n",
        "              [3, 4]])\n",
        "\n",
        "\n",
        "b = np.array([[4, 3],\n",
        "              [2, 1]])\n",
        "\n",
        "# Adding 1 to every element\n",
        "print (\"Adding 1 to every element:\", a + 1)\n",
        "\n",
        "# Subtracting 2 from each element\n",
        "print (\"\\nSubtracting 2 from each element:\", b - 2)\n",
        "\n",
        "# sum of array elements\n",
        "# Performing Unary operations\n",
        "print (\"\\nSum of all array \"\n",
        "       \"elements: \", a.sum())\n",
        "\n",
        "# Adding two arrays\n",
        "# Performing Binary operations\n",
        "print (\"\\nArray sum:\\n\", a + b)"
      ],
      "metadata": {
        "colab": {
          "base_uri": "https://localhost:8080/"
        },
        "id": "v_qNMEDQYM7q",
        "outputId": "3c8ce787-28ee-48fd-d555-848c7657d0a1"
      },
      "execution_count": null,
      "outputs": [
        {
          "output_type": "stream",
          "name": "stdout",
          "text": [
            "Adding 1 to every element: [[2 3]\n",
            " [4 5]]\n",
            "\n",
            "Subtracting 2 from each element: [[ 2  1]\n",
            " [ 0 -1]]\n",
            "\n",
            "Sum of all array elements:  10\n",
            "\n",
            "Array sum:\n",
            " [[5 5]\n",
            " [5 5]]\n"
          ]
        }
      ]
    },
    {
      "cell_type": "code",
      "source": [
        "# Python Program to create\n",
        "# a data type object\n",
        "import numpy as np\n",
        "\n",
        "# Integer datatype\n",
        "# guessed by Numpy\n",
        "x = np.array([1, 2])\n",
        "print(\"Integer Datatype: \")\n",
        "print(x.dtype)\n",
        "\n",
        "# Float datatype\n",
        "# guessed by Numpy\n",
        "x = np.array([1.0, 2.0])\n",
        "print(\"\\nFloat Datatype: \")\n",
        "print(x.dtype)\n",
        "\n",
        "# Forced Datatype\n",
        "x = np.array([1, 2], dtype = np.int64)\n",
        "print(\"\\nForcing a Datatype: \")\n",
        "print(x.dtype)"
      ],
      "metadata": {
        "colab": {
          "base_uri": "https://localhost:8080/"
        },
        "id": "RmhjOdQSYWJw",
        "outputId": "310ede38-0984-4eca-b41a-9c62955d5f1a"
      },
      "execution_count": null,
      "outputs": [
        {
          "output_type": "stream",
          "name": "stdout",
          "text": [
            "Integer Datatype: \n",
            "int64\n",
            "\n",
            "Float Datatype: \n",
            "float64\n",
            "\n",
            "Forcing a Datatype: \n",
            "int64\n"
          ]
        }
      ]
    },
    {
      "cell_type": "code",
      "source": [
        "import numpy as np\n",
        "\n",
        "# First Array\n",
        "arr1 = np.array([[4, 7], [2, 6]],\n",
        "                 dtype = np.float64)\n",
        "\n",
        "# Second Array\n",
        "arr2 = np.array([[3, 6], [2, 8]],\n",
        "                 dtype = np.float64)\n",
        "\n",
        "# Addition of two Arrays\n",
        "Sum = np.add(arr1, arr2)\n",
        "print(\"Addition of Two Arrays: \")\n",
        "print(Sum)\n",
        "\n",
        "# Addition of all Array elements\n",
        "# using predefined sum method\n",
        "Sum1 = np.sum(arr1)\n",
        "print(\"\\nAddition of Array elements: \")\n",
        "print(Sum1)\n",
        "\n",
        "# Square root of Array\n",
        "Sqrt = np.sqrt(arr1)\n",
        "print(\"\\nSquare root of Array1 elements: \")\n",
        "print(Sqrt)\n",
        "\n",
        "# Transpose of Array\n",
        "# using In-built function 'T'\n",
        "Trans_arr = arr1.T\n",
        "print(\"\\nTranspose of Array: \")\n",
        "print(Trans_arr)"
      ],
      "metadata": {
        "colab": {
          "base_uri": "https://localhost:8080/"
        },
        "id": "IGKSHR8mYemK",
        "outputId": "02d281a9-af01-4564-99c2-ad7423b9b125"
      },
      "execution_count": null,
      "outputs": [
        {
          "output_type": "stream",
          "name": "stdout",
          "text": [
            "Addition of Two Arrays: \n",
            "[[ 7. 13.]\n",
            " [ 4. 14.]]\n",
            "\n",
            "Addition of Array elements: \n",
            "19.0\n",
            "\n",
            "Square root of Array1 elements: \n",
            "[[2.         2.64575131]\n",
            " [1.41421356 2.44948974]]\n",
            "\n",
            "Transpose of Array: \n",
            "[[4. 2.]\n",
            " [7. 6.]]\n"
          ]
        }
      ]
    },
    {
      "cell_type": "code",
      "source": [
        "import numpy as geek\n",
        "in_num1 = 10\n",
        "in_num2 = 11\n",
        "\n",
        "print (\"Input  number1 : \", in_num1)\n",
        "print (\"Input  number2 : \", in_num2)\n",
        "\n",
        "out_num = geek.bitwise_and(in_num1, in_num2)\n",
        "print (\"bitwise_and of 10 and 11 : \", out_num)"
      ],
      "metadata": {
        "colab": {
          "base_uri": "https://localhost:8080/"
        },
        "id": "ViX184EyYoao",
        "outputId": "00015928-45d0-47b7-ae7a-33f93b8937d9"
      },
      "execution_count": null,
      "outputs": [
        {
          "output_type": "stream",
          "name": "stdout",
          "text": [
            "Input  number1 :  10\n",
            "Input  number2 :  11\n",
            "bitwise_and of 10 and 11 :  10\n"
          ]
        }
      ]
    },
    {
      "cell_type": "code",
      "source": [
        "import numpy as geek\n",
        "\n",
        "in_arr1 = [2, 8, 125]\n",
        "in_arr2 = [3, 3, 115]\n",
        "\n",
        "print (\"Input array1 : \", in_arr1)\n",
        "print (\"Input array2 : \", in_arr2)\n",
        "\n",
        "out_arr = geek.bitwise_and(in_arr1, in_arr2)\n",
        "print (\"Output array after bitwise_and: \", out_arr)"
      ],
      "metadata": {
        "colab": {
          "base_uri": "https://localhost:8080/"
        },
        "id": "tAH38cMWYxAV",
        "outputId": "00b668e2-bc3e-4575-9925-4b6f4f47c42c"
      },
      "execution_count": null,
      "outputs": [
        {
          "output_type": "stream",
          "name": "stdout",
          "text": [
            "Input array1 :  [2, 8, 125]\n",
            "Input array2 :  [3, 3, 115]\n",
            "Output array after bitwise_and:  [  2   0 113]\n"
          ]
        }
      ]
    },
    {
      "cell_type": "code",
      "source": [
        "# Python program explaining\n",
        "# invert() function\n",
        "\n",
        "import numpy as geek\n",
        "in_num = 10\n",
        "print (\"Input  number : \", in_num)\n",
        "\n",
        "out_num = geek.invert(in_num)\n",
        "print (\"inversion of 10 : \", out_num)"
      ],
      "metadata": {
        "colab": {
          "base_uri": "https://localhost:8080/"
        },
        "id": "72Ovi1YcZAyp",
        "outputId": "05dc4754-4baf-45fd-fa07-0e01561340c8"
      },
      "execution_count": null,
      "outputs": [
        {
          "output_type": "stream",
          "name": "stdout",
          "text": [
            "Input  number :  10\n",
            "inversion of 10 :  -11\n"
          ]
        }
      ]
    },
    {
      "cell_type": "code",
      "source": [
        "import numpy as np\n",
        "\n",
        "arr = np.array([41, 42, 43, 44])\n",
        "\n",
        "# Create an empty list\n",
        "filter_arr = []\n",
        "\n",
        "# go through each element in arr\n",
        "for element in arr:\n",
        "  # if the element is higher than 42, set the value to True, otherwise False:\n",
        "  if element > 42:\n",
        "    filter_arr.append(True)\n",
        "  else:\n",
        "    filter_arr.append(False)\n",
        "\n",
        "newarr = arr[filter_arr]\n",
        "\n",
        "print(filter_arr)\n",
        "print(newarr)"
      ],
      "metadata": {
        "colab": {
          "base_uri": "https://localhost:8080/"
        },
        "id": "LtVwk2fFZNGa",
        "outputId": "f7e8c5e1-d464-4390-9154-211bdab19217"
      },
      "execution_count": null,
      "outputs": [
        {
          "output_type": "stream",
          "name": "stdout",
          "text": [
            "[False, False, True, True]\n",
            "[43 44]\n"
          ]
        }
      ]
    },
    {
      "cell_type": "code",
      "source": [
        "import numpy as np\n",
        "\n",
        "arr = np.array([1, 2, 3, 4, 5, 6, 7])\n",
        "\n",
        "filter_arr = arr % 2 == 0\n",
        "\n",
        "newarr = arr[filter_arr]\n",
        "\n",
        "print(filter_arr)\n",
        "print(newarr)"
      ],
      "metadata": {
        "colab": {
          "base_uri": "https://localhost:8080/"
        },
        "id": "qC9ka64hZXSP",
        "outputId": "0aebcd43-d227-45de-ff88-40354d59d06e"
      },
      "execution_count": null,
      "outputs": [
        {
          "output_type": "stream",
          "name": "stdout",
          "text": [
            "[False  True False  True False  True False]\n",
            "[2 4 6]\n"
          ]
        }
      ]
    },
    {
      "cell_type": "code",
      "source": [
        "import numpy as np\n",
        "\n",
        "arr = np.array([1, 2, 3, 4, 5, 6, 7, 8])\n",
        "\n",
        "x = np.where(arr%2 == 0)\n",
        "\n",
        "print(x)"
      ],
      "metadata": {
        "colab": {
          "base_uri": "https://localhost:8080/"
        },
        "id": "ParKGhWUZfRd",
        "outputId": "5d5032c3-c861-4922-b90f-6012c2dd1996"
      },
      "execution_count": null,
      "outputs": [
        {
          "output_type": "stream",
          "name": "stdout",
          "text": [
            "(array([1, 3, 5, 7]),)\n"
          ]
        }
      ]
    },
    {
      "cell_type": "code",
      "source": [
        "import numpy as np\n",
        "\n",
        "arr = np.array([1, 2, 3, 4, 5, 6, 7, 8, 9, 10, 11, 12])\n",
        "\n",
        "newarr = arr.reshape(2, 3, 2)\n",
        "\n",
        "print(newarr)"
      ],
      "metadata": {
        "colab": {
          "base_uri": "https://localhost:8080/"
        },
        "id": "C8QwYjo-ZqhB",
        "outputId": "260a3657-fa6c-406c-d68e-ea7c4f2c7316"
      },
      "execution_count": null,
      "outputs": [
        {
          "output_type": "stream",
          "name": "stdout",
          "text": [
            "[[[ 1  2]\n",
            "  [ 3  4]\n",
            "  [ 5  6]]\n",
            "\n",
            " [[ 7  8]\n",
            "  [ 9 10]\n",
            "  [11 12]]]\n"
          ]
        }
      ]
    },
    {
      "cell_type": "code",
      "source": [
        "import numpy as np\n",
        "\n",
        "arr = np.array([1, 2, 3, 4, 5])\n",
        "x = arr.view()\n",
        "arr[0] = 42\n",
        "\n",
        "print(arr)\n",
        "print(x)"
      ],
      "metadata": {
        "colab": {
          "base_uri": "https://localhost:8080/"
        },
        "id": "bd9Q47wlZ5nx",
        "outputId": "ee4d1f0d-68f5-449b-9260-bdaacbaea72e"
      },
      "execution_count": null,
      "outputs": [
        {
          "output_type": "stream",
          "name": "stdout",
          "text": [
            "[42  2  3  4  5]\n",
            "[42  2  3  4  5]\n"
          ]
        }
      ]
    },
    {
      "cell_type": "code",
      "source": [
        "from numpy import random\n",
        "\n",
        "x = random.choice([3, 5, 7, 9], p=[0.1, 0.3, 0.6, 0.0], size=(100))\n",
        "\n",
        "print(x)"
      ],
      "metadata": {
        "colab": {
          "base_uri": "https://localhost:8080/"
        },
        "id": "PykpOrtBaBvN",
        "outputId": "488b440e-5f38-435c-f40c-23063ae72e1c"
      },
      "execution_count": null,
      "outputs": [
        {
          "output_type": "stream",
          "name": "stdout",
          "text": [
            "[7 7 7 7 5 3 7 5 7 5 7 5 7 3 5 7 7 7 7 5 7 7 7 7 7 7 7 7 7 7 5 7 7 7 7 5 7\n",
            " 5 7 7 3 3 5 7 7 7 7 5 7 7 7 7 7 5 7 7 7 7 7 7 5 7 7 7 7 5 5 3 5 7 7 5 7 3\n",
            " 7 7 5 7 7 7 7 7 7 5 7 7 3 7 7 7 7 7 5 7 3 7 7 3 7 5]\n"
          ]
        }
      ]
    },
    {
      "cell_type": "code",
      "source": [
        "from numpy import random\n",
        "import numpy as np\n",
        "\n",
        "arr = np.array([1, 2, 3, 4, 5])\n",
        "\n",
        "random.shuffle(arr)\n",
        "\n",
        "print(arr)"
      ],
      "metadata": {
        "colab": {
          "base_uri": "https://localhost:8080/"
        },
        "id": "FAXYHXJeaJfB",
        "outputId": "aac8b6c1-80d3-4916-efed-d81320821ffb"
      },
      "execution_count": null,
      "outputs": [
        {
          "output_type": "stream",
          "name": "stdout",
          "text": [
            "[5 2 4 3 1]\n"
          ]
        }
      ]
    },
    {
      "cell_type": "code",
      "source": [
        "import matplotlib.pyplot as plt\n",
        "import seaborn as sns\n",
        "\n",
        "sns.distplot([0, 1, 2, 3, 4, 5])\n",
        "\n",
        "plt.show()"
      ],
      "metadata": {
        "colab": {
          "base_uri": "https://localhost:8080/",
          "height": 621
        },
        "id": "2jiHH1HdaRbt",
        "outputId": "9d940631-6b79-4c7b-edf4-06fdc34b64df"
      },
      "execution_count": null,
      "outputs": [
        {
          "output_type": "stream",
          "name": "stderr",
          "text": [
            "<ipython-input-23-f3b28c97675e>:4: UserWarning: \n",
            "\n",
            "`distplot` is a deprecated function and will be removed in seaborn v0.14.0.\n",
            "\n",
            "Please adapt your code to use either `displot` (a figure-level function with\n",
            "similar flexibility) or `histplot` (an axes-level function for histograms).\n",
            "\n",
            "For a guide to updating your code to use the new functions, please see\n",
            "https://gist.github.com/mwaskom/de44147ed2974457ad6372750bbe5751\n",
            "\n",
            "  sns.distplot([0, 1, 2, 3, 4, 5])\n"
          ]
        },
        {
          "output_type": "display_data",
          "data": {
            "text/plain": [
              "<Figure size 640x480 with 1 Axes>"
            ],
            "image/png": "[encoded data removed]"
          },
          "metadata": {}
        }
      ]
    },
    {
      "cell_type": "code",
      "source": [
        "from numpy import random\n",
        "\n",
        "x = random.normal(size=(2, 3))\n",
        "\n",
        "print(x)"
      ],
      "metadata": {
        "colab": {
          "base_uri": "https://localhost:8080/"
        },
        "id": "S6kMzG01aiG5",
        "outputId": "d5bdee98-5990-427b-d8b7-1766b371878f"
      },
      "execution_count": null,
      "outputs": [
        {
          "output_type": "stream",
          "name": "stdout",
          "text": [
            "[[-1.4467114  -0.89578289 -0.39787771]\n",
            " [-0.44887391  0.33666621 -0.96601014]]\n"
          ]
        }
      ]
    },
    {
      "cell_type": "code",
      "source": [
        "from numpy import random\n",
        "\n",
        "x = random.normal(loc=1, scale=2, size=(2, 3))\n",
        "\n",
        "print(x)"
      ],
      "metadata": {
        "colab": {
          "base_uri": "https://localhost:8080/"
        },
        "id": "Q2MxmWj9ap8I",
        "outputId": "a6bf34ca-3859-4d68-bf3a-a81dd4e7c51a"
      },
      "execution_count": null,
      "outputs": [
        {
          "output_type": "stream",
          "name": "stdout",
          "text": [
            "[[ 2.83815723  3.1751406  -1.20130812]\n",
            " [ 3.17818803  0.70418223 -0.69564182]]\n"
          ]
        }
      ]
    },
    {
      "cell_type": "code",
      "source": [
        "from numpy import random\n",
        "\n",
        "x = random.binomial(n=10, p=0.5, size=10)\n",
        "\n",
        "print(x)"
      ],
      "metadata": {
        "colab": {
          "base_uri": "https://localhost:8080/"
        },
        "id": "WZv7egKqayhs",
        "outputId": "688948ae-63aa-4333-d866-1e72712d73e9"
      },
      "execution_count": null,
      "outputs": [
        {
          "output_type": "stream",
          "name": "stdout",
          "text": [
            "[1 7 5 6 5 5 4 5 3 8]\n"
          ]
        }
      ]
    },
    {
      "cell_type": "code",
      "source": [
        "from numpy import random\n",
        "import matplotlib.pyplot as plt\n",
        "import seaborn as sns\n",
        "\n",
        "sns.distplot(random.binomial(n=10, p=0.5, size=1000), hist=True, kde=False)\n",
        "\n",
        "plt.show()"
      ],
      "metadata": {
        "colab": {
          "base_uri": "https://localhost:8080/",
          "height": 621
        },
        "id": "CcZ-0nTEbCwO",
        "outputId": "46f7c2ca-f3b4-4bcb-955e-6babc318e51a"
      },
      "execution_count": null,
      "outputs": [
        {
          "output_type": "stream",
          "name": "stderr",
          "text": [
            "<ipython-input-27-c6d35445dc7e>:5: UserWarning: \n",
            "\n",
            "`distplot` is a deprecated function and will be removed in seaborn v0.14.0.\n",
            "\n",
            "Please adapt your code to use either `displot` (a figure-level function with\n",
            "similar flexibility) or `histplot` (an axes-level function for histograms).\n",
            "\n",
            "For a guide to updating your code to use the new functions, please see\n",
            "https://gist.github.com/mwaskom/de44147ed2974457ad6372750bbe5751\n",
            "\n",
            "  sns.distplot(random.binomial(n=10, p=0.5, size=1000), hist=True, kde=False)\n"
          ]
        },
        {
          "output_type": "display_data",
          "data": {
            "text/plain": [
              "<Figure size 640x480 with 1 Axes>"
            ],
            "image/png": "[encoded data removed]"
          },
          "metadata": {}
        }
      ]
    },
    {
      "cell_type": "code",
      "source": [
        "from numpy import random\n",
        "\n",
        "x = random.poisson(lam=2, size=10)\n",
        "\n",
        "print(x)"
      ],
      "metadata": {
        "colab": {
          "base_uri": "https://localhost:8080/"
        },
        "id": "1aV90FpgbL-m",
        "outputId": "04c68983-6370-470b-b990-8cf9f24efdc5"
      },
      "execution_count": null,
      "outputs": [
        {
          "output_type": "stream",
          "name": "stdout",
          "text": [
            "[4 0 3 1 3 3 1 1 5 2]\n"
          ]
        }
      ]
    },
    {
      "cell_type": "code",
      "source": [
        "from numpy import random\n",
        "\n",
        "x = random.chisquare(df=2, size=(2, 3))\n",
        "\n",
        "print(x)"
      ],
      "metadata": {
        "colab": {
          "base_uri": "https://localhost:8080/"
        },
        "id": "3CfnuIDKbVGN",
        "outputId": "96ea8530-984a-4939-be30-9232da3abb5a"
      },
      "execution_count": null,
      "outputs": [
        {
          "output_type": "stream",
          "name": "stdout",
          "text": [
            "[[0.18500164 0.45681907 3.83563205]\n",
            " [3.30355395 0.88841514 5.34626464]]\n"
          ]
        }
      ]
    },
    {
      "cell_type": "code",
      "source": [
        "a=np.array([1,3,4])\n",
        "print(a)     #Create an array\n",
        "print(\"--------------------------------\")\n",
        "print(np.zeros(a))    #create an array of zeros\n",
        "print(\"---------------------------------\")\n",
        "print(np.ones(a))      #create an array of ones\n",
        "print(\"---------------------------------\")\n",
        "print(np.arange(5))     #create an array with a reange of values\n",
        "print(\"---------------------------------------\")\n",
        "print(np.arange(2,10,2))\n",
        "print(\"------------------------------------------\")\n",
        "#Create an array with evenly spaced values\n",
        "arr1 = np.linspace(0, 1)\n",
        "print(\"Example 1:\", arr1)\n",
        "\n",
        "arr2 = np.linspace(0, 1, num=10)\n",
        "print(\"Example 2:\", arr2)\n",
        "\n",
        "arr3 = np.linspace(0, 1, num=5, endpoint=False)\n",
        "print(\"Example 3:\", arr3)\n",
        "\n",
        "arr4, step_size = np.linspace(0, 1, num=5, retstep=True)\n",
        "print(\"Example 4 - Array:\", arr4)\n",
        "print(\"Example 4 - Step Size:\", step_size)\n",
        "print(\"------------------------------------------------\")\n",
        "\n",
        "# Example 1: Creating a 3x3 identity matrix\n",
        "identity_matrix_3x3 = np.eye(3)\n",
        "print(\"Example 1:\")\n",
        "print(identity_matrix_3x3)\n",
        "\n",
        "# Example 2: Creating a 4x5 identity matrix\n",
        "identity_matrix_4x5 = np.eye(4, 5)\n",
        "print(\"\\nExample 2:\")\n",
        "print(identity_matrix_4x5)\n",
        "\n",
        "# Example 3: Creating a 3x3 identity matrix with ones on the kth diagonal\n",
        "identity_matrix_k_diagonal = np.eye(3, k=1)\n",
        "print(\"\\nExample 3:\")\n",
        "print(identity_matrix_k_diagonal)"
      ],
      "metadata": {
        "colab": {
          "base_uri": "https://localhost:8080/"
        },
        "id": "s9lJ0uhZbemx",
        "outputId": "eb0a3eaa-583b-424f-c13f-dcc7eed4103f"
      },
      "execution_count": null,
      "outputs": [
        {
          "output_type": "stream",
          "name": "stdout",
          "text": [
            "[1 3 4]\n",
            "--------------------------------\n",
            "[[[0. 0. 0. 0.]\n",
            "  [0. 0. 0. 0.]\n",
            "  [0. 0. 0. 0.]]]\n",
            "---------------------------------\n",
            "[[[1. 1. 1. 1.]\n",
            "  [1. 1. 1. 1.]\n",
            "  [1. 1. 1. 1.]]]\n",
            "---------------------------------\n",
            "[0 1 2 3 4]\n",
            "---------------------------------------\n",
            "[2 4 6 8]\n",
            "------------------------------------------\n",
            "Example 1: [0.         0.02040816 0.04081633 0.06122449 0.08163265 0.10204082\n",
            " 0.12244898 0.14285714 0.16326531 0.18367347 0.20408163 0.2244898\n",
            " 0.24489796 0.26530612 0.28571429 0.30612245 0.32653061 0.34693878\n",
            " 0.36734694 0.3877551  0.40816327 0.42857143 0.44897959 0.46938776\n",
            " 0.48979592 0.51020408 0.53061224 0.55102041 0.57142857 0.59183673\n",
            " 0.6122449  0.63265306 0.65306122 0.67346939 0.69387755 0.71428571\n",
            " 0.73469388 0.75510204 0.7755102  0.79591837 0.81632653 0.83673469\n",
            " 0.85714286 0.87755102 0.89795918 0.91836735 0.93877551 0.95918367\n",
            " 0.97959184 1.        ]\n",
            "Example 2: [0.         0.11111111 0.22222222 0.33333333 0.44444444 0.55555556\n",
            " 0.66666667 0.77777778 0.88888889 1.        ]\n",
            "Example 3: [0.  0.2 0.4 0.6 0.8]\n",
            "Example 4 - Array: [0.   0.25 0.5  0.75 1.  ]\n",
            "Example 4 - Step Size: 0.25\n",
            "------------------------------------------------\n",
            "Example 1:\n",
            "[[1. 0. 0.]\n",
            " [0. 1. 0.]\n",
            " [0. 0. 1.]]\n",
            "\n",
            "Example 2:\n",
            "[[1. 0. 0. 0. 0.]\n",
            " [0. 1. 0. 0. 0.]\n",
            " [0. 0. 1. 0. 0.]\n",
            " [0. 0. 0. 1. 0.]]\n",
            "\n",
            "Example 3:\n",
            "[[0. 1. 0.]\n",
            " [0. 0. 1.]\n",
            " [0. 0. 0.]]\n"
          ]
        }
      ]
    },
    {
      "cell_type": "code",
      "source": [
        "c=np.array([[1,2,3],[4,5,6],[3,2,1],[4,5,7]])\n",
        "print(c.shape)    #Returns the dimensions of the array\n",
        "print(c.ndim)      #Returns the number of dimensions\n",
        "print(c.size)      #Returns the total number of elements\n",
        "print(c.dtype)      #Returns the data type of elements\n",
        "print(\"__________________________________\")\n",
        "\n",
        "c=np.array([[[1,2,3],[4,5,6]],[[3,2,1],[4,5,7]]])\n",
        "print(c.shape)\n",
        "print(c.ndim)\n",
        "print(c.size)\n",
        "print(c.dtype)"
      ],
      "metadata": {
        "colab": {
          "base_uri": "https://localhost:8080/"
        },
        "id": "-kV_H36nbrhD",
        "outputId": "c914676b-a2d3-40a0-ef17-cdffc02097d0"
      },
      "execution_count": null,
      "outputs": [
        {
          "output_type": "stream",
          "name": "stdout",
          "text": [
            "(4, 3)\n",
            "2\n",
            "12\n",
            "int64\n",
            "__________________________________\n",
            "(2, 2, 3)\n",
            "3\n",
            "12\n",
            "int64\n"
          ]
        }
      ]
    },
    {
      "cell_type": "code",
      "source": [
        "r = np.array([1, 2, 3, 4, 5, 6, 7, 8, 9, 10, 11, 12])\n",
        "q=np.array([3,40,50,70])\n",
        "s=np.reshape(r,(3,4))\n",
        "print(s)\n",
        "print(np.transpose(s))\n",
        "print(np.concatenate((r,q)))\n",
        "print(np.split(r,3))"
      ],
      "metadata": {
        "colab": {
          "base_uri": "https://localhost:8080/"
        },
        "id": "w8NG1gCzcAvF",
        "outputId": "2514841a-59a1-4873-feec-8d531cdd118b"
      },
      "execution_count": null,
      "outputs": [
        {
          "output_type": "stream",
          "name": "stdout",
          "text": [
            "[[ 1  2  3  4]\n",
            " [ 5  6  7  8]\n",
            " [ 9 10 11 12]]\n",
            "[[ 1  5  9]\n",
            " [ 2  6 10]\n",
            " [ 3  7 11]\n",
            " [ 4  8 12]]\n",
            "[ 1  2  3  4  5  6  7  8  9 10 11 12  3 40 50 70]\n",
            "[array([1, 2, 3, 4]), array([5, 6, 7, 8]), array([ 9, 10, 11, 12])]\n"
          ]
        }
      ]
    },
    {
      "cell_type": "code",
      "source": [
        "r = np.array([1, 2,3, 3, 4, 5, 6, 7, 8, 9, 10, 11, 12])\n",
        "print(np.sum(r))\n",
        "print(np.mean(r))\n",
        "print(np.median(r))\n",
        "print(np.std(r))\n",
        "print(np.min(r))\n",
        "print(np.max(r))"
      ],
      "metadata": {
        "colab": {
          "base_uri": "https://localhost:8080/"
        },
        "id": "0_6_K3nacG7g",
        "outputId": "7144cdc7-e188-462e-e40b-3b9bf9d119e5"
      },
      "execution_count": null,
      "outputs": [
        {
          "output_type": "stream",
          "name": "stdout",
          "text": [
            "81\n",
            "6.230769230769231\n",
            "6.0\n",
            "3.445260873316722\n",
            "1\n",
            "12\n"
          ]
        }
      ]
    },
    {
      "cell_type": "code",
      "source": [
        "r = np.array([1, 2, 3, 11, 12])\n",
        "print(np.sin(r))\n",
        "print(np.cos(r))\n",
        "print(np.tan(r))\n",
        "print(np.arcsin(r))\n",
        "print(np.arccos(r))\n",
        "print(np.arctan(r))"
      ],
      "metadata": {
        "colab": {
          "base_uri": "https://localhost:8080/"
        },
        "id": "QQrJZi1zcN9h",
        "outputId": "4b2b44ae-c4c5-4add-b24b-808c9cdd0d95"
      },
      "execution_count": null,
      "outputs": [
        {
          "output_type": "stream",
          "name": "stdout",
          "text": [
            "[ 0.84147098  0.90929743  0.14112001 -0.99999021 -0.53657292]\n",
            "[ 0.54030231 -0.41614684 -0.9899925   0.0044257   0.84385396]\n",
            "[ 1.55740772e+00 -2.18503986e+00 -1.42546543e-01 -2.25950846e+02\n",
            " -6.35859929e-01]\n",
            "[1.57079633        nan        nan        nan        nan]\n",
            "[ 0. nan nan nan nan]\n",
            "[0.78539816 1.10714872 1.24904577 1.48013644 1.48765509]\n"
          ]
        },
        {
          "output_type": "stream",
          "name": "stderr",
          "text": [
            "<ipython-input-34-bfe3dab2a3a2>:5: RuntimeWarning: invalid value encountered in arcsin\n",
            "  print(np.arcsin(r))\n",
            "<ipython-input-34-bfe3dab2a3a2>:6: RuntimeWarning: invalid value encountered in arccos\n",
            "  print(np.arccos(r))\n"
          ]
        }
      ]
    },
    {
      "cell_type": "code",
      "source": [
        "print(np.random.rand())\n",
        "print(\"Random values in a given shape:\")\n",
        "random_array = np.random.rand(3, 2)\n",
        "print(random_array)\n",
        "\n",
        "print(\"Random values from a standard normal distribution:\")\n",
        "random_array = np.random.randn(3, 2)\n",
        "print(random_array)\n",
        "\n",
        "print(\"Random Integers:\")\n",
        "random_integers = np.random.randint(1, 10, size=(3, 4))\n",
        "print(random_integers)\n",
        "\n",
        "print(\"Suffle an array:\")\n",
        "a=np.array([1,2,3,5,4])\n",
        "np.random.shuffle(a)\n",
        "print(a)"
      ],
      "metadata": {
        "colab": {
          "base_uri": "https://localhost:8080/"
        },
        "id": "bO8HoKY8cWie",
        "outputId": "b31295e1-1d5b-4e30-d2a5-8a78d27f2189"
      },
      "execution_count": null,
      "outputs": [
        {
          "output_type": "stream",
          "name": "stdout",
          "text": [
            "0.951259266167275\n",
            "Random values in a given shape:\n",
            "[[0.26571252 0.67836683]\n",
            " [0.45421785 0.20257838]\n",
            " [0.40365685 0.6982469 ]]\n",
            "Random values from a standard normal distribution:\n",
            "[[ 0.63226573  0.7377066 ]\n",
            " [-1.317823    0.4133766 ]\n",
            " [ 0.99811159 -1.41643849]]\n",
            "Random Integers:\n",
            "[[4 5 6 2]\n",
            " [4 4 2 9]\n",
            " [9 2 1 1]]\n",
            "Suffle an array:\n",
            "[2 3 5 4 1]\n"
          ]
        }
      ]
    },
    {
      "cell_type": "code",
      "source": [
        "# Percentiles are a measure used in statistics to indicate the relative standing of a particular value within a dataset.\n",
        "\n",
        "data = np.array([1, 2, 3, 4, 5, 6, 7, 8, 9, 10])\n",
        "\n",
        "# Compute the 25th and 75th percentiles\n",
        "percentile_25 = np.percentile(data, 25)\n",
        "percentile_75 = np.percentile(data, 75)\n",
        "\n",
        "print(\"25th percentile:\", percentile_25)\n",
        "print(\"75th percentile:\", percentile_75)\n",
        "\n",
        "#This means that 25% of the values in the dataset are less than or equal to 3.25, and 75% of the values are less than or equal to 7.75."
      ],
      "metadata": {
        "colab": {
          "base_uri": "https://localhost:8080/"
        },
        "id": "i3FY7_2BcfvC",
        "outputId": "3b6ed3e9-96c7-4e3a-f258-c0a901922bf3"
      },
      "execution_count": null,
      "outputs": [
        {
          "output_type": "stream",
          "name": "stdout",
          "text": [
            "25th percentile: 3.25\n",
            "75th percentile: 7.75\n"
          ]
        }
      ]
    },
    {
      "cell_type": "code",
      "source": [
        "#The numpy.corrcoef() function in Python's NumPy library is used to compute the Pearson correlation coefficient between two or more arrays. The Pearson correlation coefficient is a measure of the linear relationship between two variables. It ranges from -1 to 1, where:\n",
        "\n",
        "#1 indicates a perfect positive linear relationship.\n",
        "#-1 indicates a perfect negative linear relationship.\n",
        "#0 indicates no linear relationship.\n",
        "import numpy as np\n",
        "\n",
        "x = np.array([1, 2, 3, 4, 5])\n",
        "y = np.array([2, 3, 4, 5, 6])\n",
        "\n",
        "# Compute the correlation coefficient\n",
        "correlation_matrix = np.corrcoef(x, y)\n",
        "\n",
        "# The correlation coefficient is in the (0, 1) position of the matrix for two variables\n",
        "correlation_coefficient = correlation_matrix[0, 1]\n",
        "\n",
        "print(\"Correlation Coefficient:\", correlation_coefficient)"
      ],
      "metadata": {
        "colab": {
          "base_uri": "https://localhost:8080/"
        },
        "id": "IDTzn8BscixT",
        "outputId": "a9d565df-723c-4c5c-dad7-e6038f1eaa38"
      },
      "execution_count": null,
      "outputs": [
        {
          "output_type": "stream",
          "name": "stdout",
          "text": [
            "Correlation Coefficient: 0.9999999999999999\n"
          ]
        }
      ]
    },
    {
      "cell_type": "code",
      "source": [
        "arr1 = np.array([True, False, True])\n",
        "arr2 = np.array([False, True, True])\n",
        "\n",
        "# Perform element-wise logical AND\n",
        "result = np.logical_and(arr1, arr2)\n",
        "result1 = np.logical_or(arr1, arr2)\n",
        "result2 = np.logical_not(arr1, arr2)\n",
        "print(result)\n",
        "print(result1)\n",
        "print(result2)"
      ],
      "metadata": {
        "colab": {
          "base_uri": "https://localhost:8080/"
        },
        "id": "RDUbWoBJcomJ",
        "outputId": "ce636353-b7e7-4000-f55a-da8d3b185a3f"
      },
      "execution_count": null,
      "outputs": [
        {
          "output_type": "stream",
          "name": "stdout",
          "text": [
            "[False False  True]\n",
            "[ True  True  True]\n",
            "[False  True False]\n"
          ]
        }
      ]
    },
    {
      "cell_type": "code",
      "source": [
        "A = np.array([[2, 1],\n",
        "              [7, 4]])\n",
        "\n",
        "# Compute the inverse of the matrix\n",
        "A_inv = np.linalg.inv(A)\n",
        "\n",
        "print(\"Original matrix:\")\n",
        "print(A)\n",
        "\n",
        "print(\"\\nInverse matrix:\")\n",
        "print(A_inv)\n",
        "\n",
        "# Verify the inverse property: A.dot(A_inv) should be the identity matrix\n",
        "identity_matrix = A.dot(A_inv)\n",
        "print(\"\\nProduct of A and A_inv (should be the identity matrix):\")\n",
        "print(identity_matrix)"
      ],
      "metadata": {
        "colab": {
          "base_uri": "https://localhost:8080/"
        },
        "id": "fITFLdh7cuPT",
        "outputId": "141a9c4c-8fb4-48e7-8083-7af0bc531636"
      },
      "execution_count": null,
      "outputs": [
        {
          "output_type": "stream",
          "name": "stdout",
          "text": [
            "Original matrix:\n",
            "[[2 1]\n",
            " [7 4]]\n",
            "\n",
            "Inverse matrix:\n",
            "[[ 4. -1.]\n",
            " [-7.  2.]]\n",
            "\n",
            "Product of A and A_inv (should be the identity matrix):\n",
            "[[1. 0.]\n",
            " [0. 1.]]\n"
          ]
        }
      ]
    },
    {
      "cell_type": "code",
      "source": [
        "A = np.array([[4, 7],\n",
        "              [2, 6]])\n",
        "\n",
        "# Compute the determinant of the matrix\n",
        "det_A = np.linalg.det(A)\n",
        "\n",
        "print(\"Matrix:\")\n",
        "print(A)\n",
        "\n",
        "print(\"\\nDeterminant:\", det_A)"
      ],
      "metadata": {
        "colab": {
          "base_uri": "https://localhost:8080/"
        },
        "id": "jr7jT2dDcuUE",
        "outputId": "f4ba7891-e238-416b-fa83-308ab7c3efa5"
      },
      "execution_count": null,
      "outputs": [
        {
          "output_type": "stream",
          "name": "stdout",
          "text": [
            "Matrix:\n",
            "[[4 7]\n",
            " [2 6]]\n",
            "\n",
            "Determinant: 10.000000000000002\n"
          ]
        }
      ]
    },
    {
      "cell_type": "code",
      "source": [
        "A = np.array([[4, -2],\n",
        "              [1,  1]])\n",
        "\n",
        "# Compute the eigenvalues and eigenvectors\n",
        "eigenvalues, eigenvectors = np.linalg.eig(A)\n",
        "\n",
        "print(\"Matrix:\")\n",
        "print(A)\n",
        "\n",
        "print(\"\\nEigenvalues:\")\n",
        "print(eigenvalues)\n",
        "\n",
        "print(\"\\nEigenvectors:\")\n",
        "print(eigenvectors)"
      ],
      "metadata": {
        "colab": {
          "base_uri": "https://localhost:8080/"
        },
        "id": "uvPBru84c_sW",
        "outputId": "b2b3a556-bc07-4b8a-9cff-2bb43c08fd0a"
      },
      "execution_count": null,
      "outputs": [
        {
          "output_type": "stream",
          "name": "stdout",
          "text": [
            "Matrix:\n",
            "[[ 4 -2]\n",
            " [ 1  1]]\n",
            "\n",
            "Eigenvalues:\n",
            "[3. 2.]\n",
            "\n",
            "Eigenvectors:\n",
            "[[0.89442719 0.70710678]\n",
            " [0.4472136  0.70710678]]\n"
          ]
        }
      ]
    },
    {
      "cell_type": "code",
      "source": [
        "arr = np.array([3, 1, 4, 1, 5, 9, 2, 6, 5, 3, 5])\n",
        "\n",
        "# Sort the array\n",
        "sorted_arr = np.sort(arr)\n",
        "\n",
        "print(\"Original array:\", arr)\n",
        "print(\"Sorted array:\", sorted_arr)\n",
        "\n",
        "\n",
        "# Create a 2D array\n",
        "arr_2d = np.array([[3, 1, 4],\n",
        "                   [1, 5, 9],\n",
        "                   [2, 6, 5]])\n",
        "\n",
        "# Sort along the last axis\n",
        "sorted_arr_2d = np.sort(arr_2d, axis=-1)\n",
        "\n",
        "print(\"Original 2D array:\")\n",
        "print(arr_2d)\n",
        "\n",
        "print(\"\\nSorted 2D array along the last axis:\")\n",
        "print(sorted_arr_2d)"
      ],
      "metadata": {
        "colab": {
          "base_uri": "https://localhost:8080/"
        },
        "id": "XsniaPZBdHEV",
        "outputId": "b47f053c-e701-41fa-be13-57722ac2dd63"
      },
      "execution_count": null,
      "outputs": [
        {
          "output_type": "stream",
          "name": "stdout",
          "text": [
            "Original array: [3 1 4 1 5 9 2 6 5 3 5]\n",
            "Sorted array: [1 1 2 3 3 4 5 5 5 6 9]\n",
            "Original 2D array:\n",
            "[[3 1 4]\n",
            " [1 5 9]\n",
            " [2 6 5]]\n",
            "\n",
            "Sorted 2D array along the last axis:\n",
            "[[1 3 4]\n",
            " [1 5 9]\n",
            " [2 5 6]]\n"
          ]
        }
      ]
    },
    {
      "cell_type": "code",
      "source": [
        "import numpy as np\n",
        "\n",
        "# Create an array\n",
        "arr = np.array([1, 2, 3, 4, 5])\n",
        "\n",
        "# Save the array to a file\n",
        "np.save('saved_array.npy', arr)"
      ],
      "metadata": {
        "id": "djRReRR2dNbA"
      },
      "execution_count": null,
      "outputs": []
    },
    {
      "cell_type": "code",
      "source": [
        "# Load the saved array\n",
        "loaded_arr = np.load('saved_array.npy')\n",
        "\n",
        "print(\"Loaded array:\", loaded_arr)"
      ],
      "metadata": {
        "colab": {
          "base_uri": "https://localhost:8080/"
        },
        "id": "OFRX0dyudU09",
        "outputId": "63a11611-22a0-40a8-8ad6-361cee690f15"
      },
      "execution_count": null,
      "outputs": [
        {
          "output_type": "stream",
          "name": "stdout",
          "text": [
            "Loaded array: [1 2 3 4 5]\n"
          ]
        }
      ]
    },
    {
      "cell_type": "code",
      "source": [
        "finish.................."
      ],
      "metadata": {
        "id": "aTzvzm3GdoJv"
      },
      "execution_count": null,
      "outputs": []
    },
    {
      "cell_type": "code",
      "execution_count": null,
      "metadata": {
        "colab": {
          "base_uri": "https://localhost:8080/"
        },
        "id": "sNh06ylKQ7_u",
        "outputId": "a200238a-baff-4ae3-8f93-fdc1ffa3c6ed"
      },
      "outputs": [
        {
          "output_type": "stream",
          "name": "stdout",
          "text": [
            "6\n"
          ]
        }
      ],
      "source": [
        "import numpy as np\n",
        "A=np.array([3,4,5,6])\n",
        "B=A.max()\n",
        "print(B)"
      ]
    },
    {
      "cell_type": "code",
      "source": [
        "import numpy as np\n",
        "A=np.array([3,4,5,6])\n",
        "B=A.max()\n",
        "print(B)"
      ],
      "metadata": {
        "id": "2XR9cQlIBDx0"
      },
      "execution_count": null,
      "outputs": []
    },
    {
      "cell_type": "code",
      "source": [
        "import numpy as np\n",
        "a=np.arange(5)\n",
        "print(a)"
      ],
      "metadata": {
        "id": "At61AXklAq8b",
        "outputId": "632094c0-4b2d-474a-c15b-cda3420ae647",
        "colab": {
          "base_uri": "https://localhost:8080/"
        }
      },
      "execution_count": null,
      "outputs": [
        {
          "output_type": "stream",
          "name": "stdout",
          "text": [
            "[0 1 2 3 4]\n"
          ]
        }
      ]
    },
    {
      "cell_type": "code",
      "source": [
        "import numpy as np\n",
        "a=([1,2,3,4])\n",
        "print(a[2])\n",
        "print(a[-1])"
      ],
      "metadata": {
        "id": "jttpdfq0APns",
        "outputId": "43c00619-eb0a-40c4-e50d-f2549d758a55",
        "colab": {
          "base_uri": "https://localhost:8080/"
        }
      },
      "execution_count": null,
      "outputs": [
        {
          "output_type": "stream",
          "name": "stdout",
          "text": [
            "3\n",
            "4\n"
          ]
        }
      ]
    },
    {
      "cell_type": "code",
      "source": [
        "import numpy as np\n",
        "grid=np.arange(1,10).reshape((3,3))\n",
        "print(grid)"
      ],
      "metadata": {
        "id": "1sVyYim3-w9F"
      },
      "execution_count": null,
      "outputs": []
    },
    {
      "cell_type": "code",
      "source": [
        "import numpy as np"
      ],
      "metadata": {
        "id": "6rR0mSl6UBk2"
      },
      "execution_count": null,
      "outputs": []
    },
    {
      "cell_type": "code",
      "source": [
        "a=np.array([1,2,3])"
      ],
      "metadata": {
        "id": "f2sg-1WUUNEK"
      },
      "execution_count": null,
      "outputs": []
    },
    {
      "cell_type": "code",
      "source": [
        "b=np.array([(1.5,2,3),(4,5,6)],dtype=float)"
      ],
      "metadata": {
        "id": "IIhSQWMycn-j"
      },
      "execution_count": null,
      "outputs": []
    },
    {
      "cell_type": "code",
      "source": [
        "c=np.array([(1.5,2,3),(4,5,6),(4,5,6)],dtype=float)"
      ],
      "metadata": {
        "id": "FTWqsCiWctDI"
      },
      "execution_count": null,
      "outputs": []
    },
    {
      "cell_type": "code",
      "source": [
        "d=np.array([(5,6,7),(8,9,0),(1,2,3)])"
      ],
      "metadata": {
        "id": "RAC9k2Rlg_qC"
      },
      "execution_count": null,
      "outputs": []
    },
    {
      "cell_type": "code",
      "source": [
        "b=np.int64(a)\n",
        "print(b)"
      ],
      "metadata": {
        "colab": {
          "base_uri": "https://localhost:8080/"
        },
        "id": "6mYpoYfgV-nR",
        "outputId": "51b9ce85-97ef-4d43-ac64-df2b7fcb1f7a"
      },
      "execution_count": null,
      "outputs": [
        {
          "output_type": "stream",
          "name": "stdout",
          "text": [
            "[1 2 3 4]\n"
          ]
        }
      ]
    },
    {
      "cell_type": "code",
      "source": [
        "a=np.float32(b)\n",
        "print(a)"
      ],
      "metadata": {
        "colab": {
          "base_uri": "https://localhost:8080/"
        },
        "id": "HFXVuFD1WXCw",
        "outputId": "f7b365ed-a992-492e-c8ab-f309425d94e8"
      },
      "execution_count": null,
      "outputs": [
        {
          "output_type": "stream",
          "name": "stdout",
          "text": [
            "[1. 2. 3. 4.]\n"
          ]
        }
      ]
    },
    {
      "cell_type": "code",
      "source": [
        "a.shape\n",
        "B=len(a)\n",
        "print(B)"
      ],
      "metadata": {
        "colab": {
          "base_uri": "https://localhost:8080/"
        },
        "id": "z5KlIrm9Y6hb",
        "outputId": "95e85c82-9197-4f2c-fbee-707a926614c6"
      },
      "execution_count": null,
      "outputs": [
        {
          "output_type": "stream",
          "name": "stdout",
          "text": [
            "4\n"
          ]
        }
      ]
    },
    {
      "cell_type": "code",
      "source": [
        "h=c.view()\n",
        "np.copy(c)\n",
        "h=c.copy()\n",
        "print(h)"
      ],
      "metadata": {
        "colab": {
          "base_uri": "https://localhost:8080/"
        },
        "id": "YdXS50UDZd1h",
        "outputId": "fa8d7644-4a7a-4ec4-ddd3-a83b0c09ae3a"
      },
      "execution_count": null,
      "outputs": [
        {
          "output_type": "stream",
          "name": "stdout",
          "text": [
            "[[1.5 2.  3. ]\n",
            " [4.  5.  6. ]\n",
            " [4.  5.  6. ]]\n"
          ]
        }
      ]
    },
    {
      "cell_type": "code",
      "source": [
        "np.info(np.ndarray.dtype)"
      ],
      "metadata": {
        "colab": {
          "base_uri": "https://localhost:8080/"
        },
        "id": "l-pTfn-lbvQF",
        "outputId": "2059ad4a-5df4-4327-d5fd-efb45a266534"
      },
      "execution_count": null,
      "outputs": [
        {
          "output_type": "stream",
          "name": "stdout",
          "text": [
            "Data-type of the array's elements.\n",
            "\n",
            ".. warning::\n",
            "\n",
            "    Setting ``arr.dtype`` is discouraged and may be deprecated in the\n",
            "    future.  Setting will replace the ``dtype`` without modifying the\n",
            "    memory (see also `ndarray.view` and `ndarray.astype`).\n",
            "\n",
            "Parameters\n",
            "----------\n",
            "None\n",
            "\n",
            "Returns\n",
            "-------\n",
            "d : numpy dtype object\n",
            "\n",
            "See Also\n",
            "--------\n",
            "ndarray.astype : Cast the values contained in the array to a new data-type.\n",
            "ndarray.view : Create a view of the same data but a different data-type.\n",
            "numpy.dtype\n",
            "\n",
            "Examples\n",
            "--------\n",
            ">>> x\n",
            "array([[0, 1],\n",
            "       [2, 3]])\n",
            ">>> x.dtype\n",
            "dtype('int32')\n",
            ">>> type(x.dtype)\n",
            "<type 'numpy.dtype'>\n"
          ]
        }
      ]
    },
    {
      "cell_type": "code",
      "source": [
        "b=c.sum()\n",
        "print(b)"
      ],
      "metadata": {
        "colab": {
          "base_uri": "https://localhost:8080/"
        },
        "id": "cA7p6CggakPI",
        "outputId": "05de85d2-8163-41f5-e06b-1f73699958cc"
      },
      "execution_count": null,
      "outputs": [
        {
          "output_type": "stream",
          "name": "stdout",
          "text": [
            "36.5\n"
          ]
        }
      ]
    },
    {
      "cell_type": "code",
      "source": [
        "a=a.min()\n",
        "print(a)"
      ],
      "metadata": {
        "colab": {
          "base_uri": "https://localhost:8080/"
        },
        "id": "Q7kH0SGXfbdr",
        "outputId": "8f4d2a39-3c5b-40ac-a082-8834248082fc"
      },
      "execution_count": null,
      "outputs": [
        {
          "output_type": "stream",
          "name": "stdout",
          "text": [
            "1.0\n"
          ]
        }
      ]
    },
    {
      "cell_type": "code",
      "source": [
        "A=c.mean()\n",
        "print(A)"
      ],
      "metadata": {
        "colab": {
          "base_uri": "https://localhost:8080/"
        },
        "id": "WW2XfUS-fj5b",
        "outputId": "e2d01011-140f-4158-d1ff-901e42977568"
      },
      "execution_count": null,
      "outputs": [
        {
          "output_type": "stream",
          "name": "stdout",
          "text": [
            "4.055555555555555\n"
          ]
        }
      ]
    },
    {
      "cell_type": "code",
      "source": [
        "J=c.sort(axis=0)\n",
        "print(J)"
      ],
      "metadata": {
        "colab": {
          "base_uri": "https://localhost:8080/"
        },
        "id": "SVNZaZuDfzHw",
        "outputId": "93b35f66-ff18-487b-d4ef-04140a32c243"
      },
      "execution_count": null,
      "outputs": [
        {
          "output_type": "stream",
          "name": "stdout",
          "text": [
            "None\n"
          ]
        }
      ]
    },
    {
      "cell_type": "code",
      "source": [
        "l=c[1:3]\n",
        "print(l)"
      ],
      "metadata": {
        "colab": {
          "base_uri": "https://localhost:8080/"
        },
        "id": "vXXAGPo6gTqu",
        "outputId": "7a154e53-8a74-4ecc-e968-60ad68462f0f"
      },
      "execution_count": null,
      "outputs": [
        {
          "output_type": "stream",
          "name": "stdout",
          "text": [
            "[[4. 5. 6.]\n",
            " [4. 5. 6.]]\n"
          ]
        }
      ]
    },
    {
      "cell_type": "code",
      "source": [
        "D=np.concatenate((c,d),axis=0)\n",
        "print(D)"
      ],
      "metadata": {
        "colab": {
          "base_uri": "https://localhost:8080/"
        },
        "id": "Oy70ORDigo-C",
        "outputId": "44e7e4d3-1fb6-49eb-c30e-97a06cd20002"
      },
      "execution_count": null,
      "outputs": [
        {
          "output_type": "stream",
          "name": "stdout",
          "text": [
            "[[1.5 2.  3. ]\n",
            " [4.  5.  6. ]\n",
            " [4.  5.  6. ]\n",
            " [5.  6.  7. ]\n",
            " [8.  9.  0. ]\n",
            " [1.  2.  3. ]]\n"
          ]
        }
      ]
    },
    {
      "cell_type": "code",
      "source": [
        "F=np.hsplit(D,3)\n",
        "print(F)"
      ],
      "metadata": {
        "colab": {
          "base_uri": "https://localhost:8080/"
        },
        "id": "MlDHh00kijbm",
        "outputId": "d26f819b-6bf3-4e0e-b803-46d6322e9bb1"
      },
      "execution_count": null,
      "outputs": [
        {
          "output_type": "stream",
          "name": "stdout",
          "text": [
            "[array([[1.5],\n",
            "       [4. ],\n",
            "       [4. ],\n",
            "       [5. ],\n",
            "       [8. ],\n",
            "       [1. ]]), array([[2.],\n",
            "       [5.],\n",
            "       [5.],\n",
            "       [6.],\n",
            "       [9.],\n",
            "       [2.]]), array([[3.],\n",
            "       [6.],\n",
            "       [6.],\n",
            "       [7.],\n",
            "       [0.],\n",
            "       [3.]])]\n"
          ]
        }
      ]
    }
  ]
}